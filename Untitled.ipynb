{
 "cells": [
  {
   "cell_type": "code",
   "execution_count": 1,
   "metadata": {},
   "outputs": [],
   "source": [
    "from gurobipy import *\n",
    "import numpy as np\n",
    "import matplotlib.pyplot as plt"
   ]
  },
  {
   "cell_type": "code",
   "execution_count": 2,
   "metadata": {},
   "outputs": [
    {
     "data": {
      "text/plain": [
       "[0, 1, 2, 3, 4, 5, 6, 7, 8, 9, 10, 11, 12, 13, 14, 15, 16, 17, 18, 19, 20]"
      ]
     },
     "execution_count": 2,
     "metadata": {},
     "output_type": "execute_result"
    }
   ],
   "source": [
    "n = 21\n",
    "nodos = [i for i in range(n)]\n",
    "nodos"
   ]
  },
  {
   "cell_type": "code",
   "execution_count": 3,
   "metadata": {},
   "outputs": [],
   "source": [
    "arcos = [(i,j) for i in nodos for j in nodos if i!=j]"
   ]
  },
  {
   "cell_type": "code",
   "execution_count": 4,
   "metadata": {},
   "outputs": [],
   "source": [
    "np.random.seed(0)\n",
    "X = np.random.random(n)*100\n",
    "Y = np.random.random(n)*100"
   ]
  },
  {
   "cell_type": "code",
   "execution_count": 5,
   "metadata": {},
   "outputs": [],
   "source": [
    "distance = {(i,j): np.hypot(X[i]-X[j], Y[i]-Y[j]) for i in nodos for j in nodos if i!=j}"
   ]
  },
  {
   "cell_type": "code",
   "execution_count": 6,
   "metadata": {},
   "outputs": [
    {
     "data": {
      "image/png": "[encoded data removed]",
      "text/plain": [
       "<Figure size 864x360 with 1 Axes>"
      ]
     },
     "metadata": {
      "needs_background": "light"
     },
     "output_type": "display_data"
    }
   ],
   "source": [
    "distance = {(i,j): np.hypot(X[i]-X[j], Y[i]-Y[j]) for i in nodos for j in nodos if i!=j}\n",
    "plt.figure(figsize=(12, 5))\n",
    "plt.scatter(X,Y, color='blue')\n",
    "\n",
    "for n in range(len(X)):\n",
    "    plt.annotate(str(n), xy=(X[n], Y[n]), xytext=(X[n]+0.5, Y[n]+1), color='red')\n",
    "\n",
    "plt.xlabel(\"Distancia X\")\n",
    "plt.ylabel(\"Distancia Y\")\n",
    "plt.title(\"Distancia Travel Salesman Problem\")\n",
    "plt.show()"
   ]
  },
  {
   "cell_type": "code",
   "execution_count": 8,
   "metadata": {},
   "outputs": [
    {
     "name": "stdout",
     "output_type": "stream",
     "text": [
      "Gurobi Optimizer version 9.5.1 build v9.5.1rc2 (win64)\n",
      "Thread count: 2 physical cores, 4 logical processors, using up to 4 threads\n",
      "Optimize a model with 42 rows, 441 columns and 840 nonzeros\n",
      "Model fingerprint: 0xb0a32981\n",
      "Model has 400 general constraints\n",
      "Variable types: 21 continuous, 420 integer (420 binary)\n",
      "Coefficient statistics:\n",
      "  Matrix range     [1e+00, 1e+00]\n",
      "  Objective range  [2e+00, 1e+02]\n",
      "  Bounds range     [1e+00, 1e+00]\n",
      "  RHS range        [1e+00, 1e+00]\n",
      "  GenCon rhs range [1e+00, 1e+00]\n",
      "  GenCon coe range [1e+00, 1e+00]\n",
      "Presolve added 400 rows and 400 columns\n",
      "Presolve time: 0.05s\n",
      "Presolved: 442 rows, 841 columns, 1850 nonzeros\n",
      "Presolved model has 400 SOS constraint(s)\n",
      "Variable types: 421 continuous, 420 integer (420 binary)\n",
      "\n",
      "Root relaxation: objective 3.267793e+02, 78 iterations, 0.00 seconds (0.00 work units)\n",
      "\n",
      "    Nodes    |    Current Node    |     Objective Bounds      |     Work\n",
      " Expl Unexpl |  Obj  Depth IntInf | Incumbent    BestBd   Gap | It/Node Time\n",
      "\n",
      "     0     0  326.77933    0   20          -  326.77933      -     -    0s\n",
      "     0     0  326.77933    0   20          -  326.77933      -     -    0s\n",
      "     0     2  330.71686    0   20          -  330.71686      -     -    0s\n",
      "H   62    62                     584.0421971  330.71686  43.4%   1.9    0s\n",
      "*   90    70              26     548.8437319  330.71686  39.7%   1.9    0s\n",
      "*  101    70              25     545.2477758  330.71686  39.3%   1.8    0s\n",
      "*  103    70              25     544.6531821  330.71686  39.3%   1.7    0s\n",
      "H  229   164                     529.1924385  330.71686  37.5%   1.8    0s\n",
      "*  329   198              27     445.4154134  330.71686  25.8%   1.7    0s\n",
      "H  515   306                     418.0358615  330.71686  20.9%   1.6    0s\n",
      "H 1417   370                     400.5985356  330.94329  17.4%   1.7    0s\n",
      "H 3231   626                     392.4704879  333.29215  15.1%   1.7    1s\n",
      "* 3711   672              34     391.0982344  333.29215  14.8%   1.6    1s\n",
      "H 3713   669                     390.3426267  333.29215  14.6%   1.6    1s\n",
      "* 4139   701              30     389.2793413  335.43146  13.8%   1.6    1s\n",
      "\n",
      "Explored 13288 nodes (19875 simplex iterations) in 2.81 seconds (0.64 work units)\n",
      "Thread count was 4 (of 4 available processors)\n",
      "\n",
      "Solution count 10: 389.279 390.343 391.098 ... 545.248\n",
      "\n",
      "Optimal solution found (tolerance 1.00e-04)\n",
      "Best objective 3.892793413468e+02, best bound 3.892793413468e+02, gap 0.0000%\n"
     ]
    }
   ],
   "source": [
    "model = Model('TSP')\n",
    "\n",
    "x = model.addVars(arcos, vtype = GRB.BINARY, name='x')\n",
    "u = model.addVars(nodos, vtype = GRB.CONTINUOUS, name='u')\n",
    "\n",
    "model.setObjective(quicksum(distance[n]*x[n] for n in arcos), GRB.MINIMIZE)\n",
    "\n",
    "model.addConstrs(quicksum(x[i,j] for j in nodos if j!=i)==1 for i in nodos)\n",
    "model.addConstrs(quicksum(x[i,j] for i in nodos if j!=i)==1 for j in nodos)\n",
    "\n",
    "model.addConstrs((x[i, j]==1) >> (u[i]+1==u[j]) for i,j in arcos if j!=0)\n",
    "# model.Params.timeLimit = 60\n",
    "# model.Params.MIPGap = 0.1\n",
    "model.optimize()"
   ]
  },
  {
   "cell_type": "code",
   "execution_count": 9,
   "metadata": {},
   "outputs": [
    {
     "name": "stdout",
     "output_type": "stream",
     "text": [
      "Funcion Objetivo:  389.28\n",
      "x[0,2]=1.0\n",
      "x[1,7]=1.0\n",
      "x[2,17]=1.0\n",
      "x[3,9]=1.0\n",
      "x[4,15]=1.0\n",
      "x[5,3]=1.0\n",
      "x[6,0]=1.0\n",
      "x[7,20]=1.0\n",
      "x[8,19]=1.0\n",
      "x[9,11]=1.0\n",
      "x[10,18]=1.0\n",
      "x[11,12]=1.0\n",
      "x[12,4]=1.0\n",
      "x[13,5]=1.0\n",
      "x[14,16]=1.0\n",
      "x[15,14]=1.0\n",
      "x[16,6]=1.0\n",
      "x[17,10]=1.0\n",
      "x[18,1]=1.0\n",
      "x[19,13]=1.0\n",
      "x[20,8]=1.0\n",
      "u[1]=5.0\n",
      "u[2]=1.0\n",
      "u[3]=12.0\n",
      "u[4]=16.0\n",
      "u[5]=11.0\n",
      "u[6]=20.0\n",
      "u[7]=6.0\n",
      "u[8]=8.0\n",
      "u[9]=13.0\n",
      "u[10]=3.0\n",
      "u[11]=14.0\n",
      "u[12]=15.0\n",
      "u[13]=10.0\n",
      "u[14]=18.0\n",
      "u[15]=17.0\n",
      "u[16]=19.0\n",
      "u[17]=2.0\n",
      "u[18]=4.0\n",
      "u[19]=9.0\n",
      "u[20]=7.0\n"
     ]
    }
   ],
   "source": [
    "print(\"Funcion Objetivo: \", str(round(model.ObjVal,2)))\n",
    "for v in model.getVars():\n",
    "    if v.x > 0.9:\n",
    "        print(str(v.VarName)+\"=\"+str(v.x))"
   ]
  },
  {
   "cell_type": "code",
   "execution_count": 10,
   "metadata": {},
   "outputs": [
    {
     "name": "stdout",
     "output_type": "stream",
     "text": [
      "[(0, 2), (1, 7), (2, 17), (3, 9), (4, 15), (5, 3), (6, 0), (7, 20), (8, 19), (9, 11), (10, 18), (11, 12), (12, 4), (13, 5), (14, 16), (15, 14), (16, 6), (17, 10), (18, 1), (19, 13), (20, 8)]\n"
     ]
    }
   ],
   "source": [
    "arcos_activos = [i for i in arcos if x[i].x > 0.9]\n",
    "print(arcos_activos)"
   ]
  },
  {
   "cell_type": "code",
   "execution_count": 11,
   "metadata": {},
   "outputs": [
    {
     "data": {
      "image/png": "[encoded data removed]",
      "text/plain": [
       "<Figure size 864x360 with 1 Axes>"
      ]
     },
     "metadata": {
      "needs_background": "light"
     },
     "output_type": "display_data"
    }
   ],
   "source": [
    "plt.figure(figsize=(12,5))\n",
    "\n",
    "plt.xlabel(\"Distance X\")\n",
    "plt.ylabel(\"Distance Y\")\n",
    "plt.title(\"Solucion TSP\")\n",
    "\n",
    "plt.scatter(x=X, y=Y, color=\"blue\", zorder=1)\n",
    "\n",
    "for i,j in arcos_activos:\n",
    "    plt.plot([X[i], X[j]],[Y[i], Y[j]], color='b', alpha=0.4, zorder=0)\n",
    "for n in range(len(X)):\n",
    "    plt.annotate(str(n), xy= (X[n], Y[n]), xytext=(X[n]+0.5,Y[n]+1), color='red')\n",
    "    \n",
    "plt.show()"
   ]
  },
  {
   "cell_type": "code",
   "execution_count": null,
   "metadata": {},
   "outputs": [],
   "source": []
  }
 ],
 "metadata": {
  "kernelspec": {
   "display_name": "Python 3",
   "language": "python",
   "name": "python3"
  },
  "language_info": {
   "codemirror_mode": {
    "name": "ipython",
    "version": 3
   },
   "file_extension": ".py",
   "mimetype": "text/x-python",
   "name": "python",
   "nbconvert_exporter": "python",
   "pygments_lexer": "ipython3",
   "version": "3.8.3"
  }
 },
 "nbformat": 4,
 "nbformat_minor": 4
}
