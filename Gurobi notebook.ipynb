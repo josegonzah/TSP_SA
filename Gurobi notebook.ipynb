{
 "cells": [
  {
   "cell_type": "code",
   "execution_count": 9,
   "metadata": {},
   "outputs": [],
   "source": [
    "from gurobipy import *\n",
    "import numpy as np\n",
    "import matplotlib.pyplot as plt"
   ]
  },
  {
   "cell_type": "code",
   "execution_count": 45,
   "metadata": {},
   "outputs": [
    {
     "data": {
      "text/plain": [
       "[0,\n",
       " 1,\n",
       " 2,\n",
       " 3,\n",
       " 4,\n",
       " 5,\n",
       " 6,\n",
       " 7,\n",
       " 8,\n",
       " 9,\n",
       " 10,\n",
       " 11,\n",
       " 12,\n",
       " 13,\n",
       " 14,\n",
       " 15,\n",
       " 16,\n",
       " 17,\n",
       " 18,\n",
       " 19,\n",
       " 20,\n",
       " 21,\n",
       " 22,\n",
       " 23,\n",
       " 24,\n",
       " 25,\n",
       " 26,\n",
       " 27,\n",
       " 28,\n",
       " 29,\n",
       " 30,\n",
       " 31,\n",
       " 32,\n",
       " 33,\n",
       " 34,\n",
       " 35,\n",
       " 36,\n",
       " 37,\n",
       " 38,\n",
       " 39,\n",
       " 40,\n",
       " 41,\n",
       " 42,\n",
       " 43,\n",
       " 44,\n",
       " 45,\n",
       " 46,\n",
       " 47,\n",
       " 48,\n",
       " 49]"
      ]
     },
     "execution_count": 45,
     "metadata": {},
     "output_type": "execute_result"
    }
   ],
   "source": [
    "#Creamos numero de nodos\n",
    "n = 50\n",
    "nodos = [i for i in range(n)]\n",
    "nodos"
   ]
  },
  {
   "cell_type": "code",
   "execution_count": 46,
   "metadata": {},
   "outputs": [],
   "source": [
    "arcos = [(i,j) for i in nodos for j in nodos if i!=j]"
   ]
  },
  {
   "cell_type": "code",
   "execution_count": 47,
   "metadata": {},
   "outputs": [],
   "source": [
    "#Generamos de manera aleatoria los puntos\n",
    "np.random.seed(0)\n",
    "X = np.random.random(n)\n",
    "Y = np.random.random(n)"
   ]
  },
  {
   "cell_type": "code",
   "execution_count": 48,
   "metadata": {},
   "outputs": [],
   "source": [
    "#Calculamos la distancia\n",
    "distance = {(i,j): np.hypot(X[i]-X[j], Y[i]-Y[j]) for i in nodos for j in nodos if i!=j}"
   ]
  },
  {
   "cell_type": "code",
   "execution_count": 49,
   "metadata": {},
   "outputs": [
    {
     "data": {
      "image/png": "[encoded data removed]",
      "text/plain": [
       "<Figure size 864x360 with 1 Axes>"
      ]
     },
     "metadata": {
      "needs_background": "light"
     },
     "output_type": "display_data"
    }
   ],
   "source": [
    "#Ploteamos los puntos\n",
    "distance = {(i,j): np.hypot(X[i]-X[j], Y[i]-Y[j]) for i in nodos for j in nodos if i!=j}\n",
    "plt.figure(figsize=(12, 5))\n",
    "plt.scatter(X,Y, color='blue')\n",
    "\n",
    "for n in range(len(X)):\n",
    "    plt.annotate(str(n), xy=(X[n], Y[n]), xytext=(X[n]+0.005, Y[n]+0.01), color='red')\n",
    "\n",
    "plt.xlabel(\"Distancia X\")\n",
    "plt.ylabel(\"Distancia Y\")\n",
    "plt.title(\"Distancia Travel Salesman Problem\")\n",
    "plt.show()"
   ]
  },
  {
   "cell_type": "code",
   "execution_count": 50,
   "metadata": {},
   "outputs": [
    {
     "name": "stdout",
     "output_type": "stream",
     "text": [
      "Gurobi Optimizer version 9.5.1 build v9.5.1rc2 (win64)\n",
      "Thread count: 2 physical cores, 4 logical processors, using up to 4 threads\n"
     ]
    },
    {
     "ename": "GurobiError",
     "evalue": "Model too large for size-limited license; visit https://www.gurobi.com/free-trial for a full license",
     "output_type": "error",
     "traceback": [
      "\u001b[1;31m---------------------------------------------------------------------------\u001b[0m",
      "\u001b[1;31mGurobiError\u001b[0m                               Traceback (most recent call last)",
      "\u001b[1;32m<ipython-input-50-e05cfa433de0>\u001b[0m in \u001b[0;36m<module>\u001b[1;34m\u001b[0m\n\u001b[0;32m     12\u001b[0m \u001b[1;31m# model.Params.timeLimit = 60\u001b[0m\u001b[1;33m\u001b[0m\u001b[1;33m\u001b[0m\u001b[1;33m\u001b[0m\u001b[0m\n\u001b[0;32m     13\u001b[0m \u001b[1;31m# model.Params.MIPGap = 0.1\u001b[0m\u001b[1;33m\u001b[0m\u001b[1;33m\u001b[0m\u001b[1;33m\u001b[0m\u001b[0m\n\u001b[1;32m---> 14\u001b[1;33m \u001b[0mmodel\u001b[0m\u001b[1;33m.\u001b[0m\u001b[0moptimize\u001b[0m\u001b[1;33m(\u001b[0m\u001b[1;33m)\u001b[0m\u001b[1;33m\u001b[0m\u001b[1;33m\u001b[0m\u001b[0m\n\u001b[0m",
      "\u001b[1;32msrc\\gurobipy\\model.pxi\u001b[0m in \u001b[0;36mgurobipy.Model.optimize\u001b[1;34m()\u001b[0m\n",
      "\u001b[1;31mGurobiError\u001b[0m: Model too large for size-limited license; visit https://www.gurobi.com/free-trial for a full license"
     ]
    }
   ],
   "source": [
    "#Anadimos funcion objetivo, que es la distancia total y los constarints\n",
    "model = Model('TSP')\n",
    "\n",
    "x = model.addVars(arcos, vtype = GRB.BINARY, name='x')\n",
    "u = model.addVars(nodos, vtype = GRB.CONTINUOUS, name='u')\n",
    "\n",
    "model.setObjective(quicksum(distance[n]*x[n] for n in arcos), GRB.MINIMIZE)\n",
    "\n",
    "model.addConstrs(quicksum(x[i,j] for j in nodos if j!=i)==1 for i in nodos)\n",
    "model.addConstrs(quicksum(x[i,j] for i in nodos if j!=i)==1 for j in nodos)\n",
    "\n",
    "model.addConstrs((x[i, j]==1) >> (u[i]+1==u[j]) for i,j in arcos if j!=0)\n",
    "# model.Params.timeLimit = 60\n",
    "# model.Params.MIPGap = 0.1\n",
    "model.optimize()"
   ]
  },
  {
   "cell_type": "code",
   "execution_count": 36,
   "metadata": {},
   "outputs": [
    {
     "name": "stdout",
     "output_type": "stream",
     "text": [
      "Funcion Objetivo:  3.17\n",
      "x[0,11]=1.0\n",
      "x[1,0]=1.0\n",
      "x[2,12]=1.0\n",
      "x[3,2]=1.0\n",
      "x[4,3]=1.0\n",
      "x[5,8]=1.0\n",
      "x[6,4]=1.0\n",
      "x[7,1]=1.0\n",
      "x[8,10]=1.0\n",
      "x[9,14]=1.0\n",
      "x[10,13]=1.0\n",
      "x[11,9]=1.0\n",
      "x[12,5]=1.0\n",
      "x[13,7]=1.0\n",
      "x[14,6]=1.0\n",
      "u[1]=14.0\n",
      "u[2]=7.0\n",
      "u[3]=6.0\n",
      "u[4]=5.0\n",
      "u[5]=9.0\n",
      "u[6]=4.0\n",
      "u[7]=13.0\n",
      "u[8]=10.0\n",
      "u[9]=2.0\n",
      "u[10]=11.0\n",
      "u[11]=1.0\n",
      "u[12]=8.0\n",
      "u[13]=12.0\n",
      "u[14]=3.0\n"
     ]
    }
   ],
   "source": [
    "#Valor de la funcion objetivo\n",
    "print(\"Funcion Objetivo: \", str(round(model.ObjVal,2)))\n",
    "for v in model.getVars():\n",
    "    if v.x > 0.9:\n",
    "        print(str(v.VarName)+\"=\"+str(v.x))"
   ]
  },
  {
   "cell_type": "code",
   "execution_count": 37,
   "metadata": {},
   "outputs": [
    {
     "name": "stdout",
     "output_type": "stream",
     "text": [
      "[(0, 11), (1, 0), (2, 12), (3, 2), (4, 3), (5, 8), (6, 4), (7, 1), (8, 10), (9, 14), (10, 13), (11, 9), (12, 5), (13, 7), (14, 6)]\n"
     ]
    }
   ],
   "source": [
    "#Cuales son las conexiones optimas hechas\n",
    "arcos_activos = [i for i in arcos if x[i].x > 0.9]\n",
    "print(arcos_activos)"
   ]
  },
  {
   "cell_type": "code",
   "execution_count": 38,
   "metadata": {},
   "outputs": [
    {
     "data": {
      "image/png": "[encoded data removed]",
      "text/plain": [
       "<Figure size 864x360 with 1 Axes>"
      ]
     },
     "metadata": {
      "needs_background": "light"
     },
     "output_type": "display_data"
    }
   ],
   "source": [
    "#Ploteamso la solucion\n",
    "plt.figure(figsize=(12,5))\n",
    "\n",
    "plt.xlabel(\"Distance X\")\n",
    "plt.ylabel(\"Distance Y\")\n",
    "plt.title(\"Solucion TSP\")\n",
    "\n",
    "plt.scatter(x=X, y=Y, color=\"blue\", zorder=1)\n",
    "\n",
    "for i,j in arcos_activos:\n",
    "    plt.plot([X[i], X[j]],[Y[i], Y[j]], color='b', alpha=0.4, zorder=0)\n",
    "for n in range(len(X)):\n",
    "    plt.annotate(str(n), xy= (X[n], Y[n]), xytext=(X[n]+0.005,Y[n]+0.01), color='red')\n",
    "    \n",
    "plt.show()"
   ]
  },
  {
   "cell_type": "code",
   "execution_count": null,
   "metadata": {},
   "outputs": [],
   "source": []
  }
 ],
 "metadata": {
  "kernelspec": {
   "display_name": "Python 3",
   "language": "python",
   "name": "python3"
  },
  "language_info": {
   "codemirror_mode": {
    "name": "ipython",
    "version": 3
   },
   "file_extension": ".py",
   "mimetype": "text/x-python",
   "name": "python",
   "nbconvert_exporter": "python",
   "pygments_lexer": "ipython3",
   "version": "3.8.3"
  }
 },
 "nbformat": 4,
 "nbformat_minor": 4
}
